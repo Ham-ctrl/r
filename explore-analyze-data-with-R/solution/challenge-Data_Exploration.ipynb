{
       "cells": [
           {
               "cell_type": "markdown",
               "metadata": {},
               "source": [
                   "## **Flights Data Exploration Challenge**\n",
                   "\n",
                   "A significant part of a data scientist's role is to explore, analyze. In this challenge, you'll explore a real-world dataset containing flights data from US Depattment of Transportatiin.\n",
                   "\n",
                   "Let's start by loading required packages.\n",
               ]
           },
           {
              "cell_type": "code",
              "execution_count": null,
              "metadata": {},
              "outputs": [],
              "source": [
                   "# Load packages that you'll require in this adventure\n",
                   "suppressPackageStartupMessages({\n",
                   "library(tidyverse)\n",
                   "library(summarytools)\n",
                   "library(glue)\n",
                   "library(patchwork)\n",
                   "})\n",
              ]
           },
           {
                   "cell_type": "markdown",
                   "metadata": {},
                   "source": [
                       "Now, we can import the data into R and start doing some data science on it!\n",
                       "\n",
                   ]
           },
           {
                  "cell_type": "code",
                  "execution_count": null,
                  "metadata": {},
                  "outputs":[],
                  "source": [
                      "Load and view thr data\n",
                      "df_flights <- read_csv(\"https://raw.githubusercontent.com/MicrosoftDocs/ml-basics/master/challenges/data/flights.csv\", show_col_types = FALSE)\n",
                      "\n",
                      "df_flights %>%\n",
                      " slice_head(n = 7)\n"
                  ]
           },
           {
                  "cell_type": "markdown",
                  "metedata": {},
                  "source": [
                      "The dataset contains observations of US domestic flights in 2013, and consist of the following fields:\n",
                      "\n",
                      "- **Year**: The year of the flight(all records are from 2013)\n",
                      "\n",
                      "- **Month**: The month of the flight\n",
                      "\n",
                      "- **DayOfMonth**: The day of the month on which the flight departed.\n",
                      "\n",
                      "- **DayOfWeek**: The day of the week on which the flight departed - from 1 (Monday) to 7 (Sunday)\n",
                      "\n",
                      "- ** Carrier**: The two-letter abbreviation for the airplane\n",
                      "\n",
                      "- **OriginAirportID**: A unique numeric identifier for departure airport\n",
                      "\n",
                      "- **OriginAirportName**: The full name of departure airport\n",
                      "\n",
                      "- **OriginCity**: The departure airport city\n",
                      "\n",
                      "- **OriginState**: The departure airport state\n",
                      "\n",
                      "- **DestAirportID**: A unique numeric identifier for destination airport\n",
                      "\n",
                      "- **DestAirportName**: The full name of destination airport\n",
                      "\n",
                      "- **DestCity**: The destination city airport\n",
                      "\n",
                      "- **DestState**: The destination state airport\n",
                      "\n",
                      "- **CRSDepTime**: The schedule departure time\n",
                      "\n",
                      "- **DepDelay**: The number of minutes departure was delay (flight that left ahead of schedule have a negative value)\n",
                      "\n",
                      "- **DelDelay15**: A binary indicator that indicates departure was delayed\n",
                      "\n",
                      "- **CRSArrTime**: The schedule arrival time\n",
                      "\n",
                      "- **ArrDelay**: The number of minutes arrival was delayed (flight that arrived ahead of schedule have a negative value)\n",
                      "\n",
                      "- **ArrDelay15**: A binary indicator that arrival was delayed by more than 15 minutes ( and therefore considered \"late\")\n",
                      "\n",
                      "- **Cancelled**: A binary indicator that the flight was cancelled\n",
                      "\n",
                      "Your challenge is to explore the flight data to analyze possible factors that affect delay in departure or arrival of a flight\n",
                      "\n",
                      "1. Start by cleaning the data\n",
                      "\n",
                      "- Identify any null or missing data, and impute appropriate replacement value.\n",
                      "\n",
                      "- Identify and eliminate any outlier in the **DepDelay** and **ArrDelay** columns.\n",
                      "\n",
                      "2. Explore the clean data\n",
                      "\n",
                      "- View summary statistics for the numeric fields in the dataset\n",
                      "\n",
                      "- Determine distribution of **DepDelay** and **ArrDelay** columns.\n",
                      "\n",
                      "- Use statistics, aggregate functions, and visualization to answer the following questions:\n",
                      "\n",
                      "  - *What are the average (mean) departure and arrival delays?*\n",
                      "\n",
                      "  - *How do carrier compare interms of arrival delays performance?*\n",
                      "\n",
                      "  - *Is there a noticeable difference in arrival delays for difference days of the week?*\n",
                      "\n",
                      "  - *Which departure airport has the highest average departure delay?*\n",
                      "\n",
                      "  - *Do **late** departure tend to result in longer arrival delays than on-time departure?\n*",
                      "\n",
                      "  - *Which route (from origin airport to destination airport) has the most **late** arrival\n*",
                      "\n",
                      "  -*which route has the highest average arrival delays?\n*",
                      "\n",
                      "Sometimes, when alot of columns in our data, it may difficult to get grip of the data at first sight using 'slice_head'\n",
                      "\n",
                      "`glimpse` produce a transpose version where columns run down the page, and data run across. This makes it possible to see every column in data frame. Into the bargain, it also shows the dimension of the tibble and the undrlying data types of the column.\n",
            ]
           },
           {
                "cell_type": "code",
                "execution_count": null,
                "metadata": {},
                "outputs": [],
                "source": [
                    "# Get a glimpse of your data\n",
                    "df_flights %>%\n",
                    "glimpse()\n"
                ]
           },
           {
                "cell_type": "markdown",
                "metadata": {},
                "sources": [
                    "## Clean missing values\n",
                    "\n",
                    "Once you have imported your data, it is always a good idea to clean it. sadly, it is often chronically underestimaed, yet it's a fundamental step required for subsequent operation in data analysis.\n",
                    "\n",
                    "Let's find how many null values there are for each column.\n",
                ]
           },
            {
               "cell_type": "code",
               "execution_count": null,
               "metadata": {},
               "outputs": [],
               "source": [
                   "# Find how many null values there are for each column.\n",
                   "colSums(is.na(df_flights))\n"
               ]
            },
            {
              "cell_type": "markdown",
              "metadata": {},
              "source": [
                  "Hmm, looks like there are some NA (missing values) `late departure` indicators (DepDel15 column). Departures are considered late if the delay is 15 minutes or more, so let's see the delays for the ones with an NA late indicator:\n"
                  "\n",
                  "**Question 1.\n**",
                  "\n",
                  "Starting with `df_flights`, **select** columns `DepDelay` and `DepDel15` then **filter** to obtain rows where the value of `DepDel15` is `NA`. Assign the results in a variable name `flights_depdel`\n",
                  "\n",
                  "Fill in the placeholder `....` with the right code."
              ]
            },
            {
              "cell_type": "code",
              "execution_count": null,
              "metadata": {},
              "outputs": []
              "source": [
                  "# Select columns DepDelay and DepDel15.\n",
                  "and then Filter the tibble to obtain.\n",
                  "# Observation where there is missing value of DepDel15."
                  "\n",
                  "flight_depdel <- df_flights %>%\n",
                  " select(....,....) %>%\n",
                  " filter(is.na(....))\n"
              ]
            },
             {
               "cell_type": "markdown",
               "metadata": {},
               "source": [
                   "Test your answer:\n",
                   "\n"
               ]
             },
              {
               "cell_type": "code",
               "execution_count": null,
               "metadata": {},
               "outputs": [],
               "source": [
                   ". <- ottr::check(\"testQuestion 1.R\")\n"
               ]
              },
               {
                "cell_type": "markdown",
                "metadat":{},
                "source": [
                    "Good job! Now, let's `glimpse` at `flight_depdel`\n",
                    "\n"
                ]
               },
                {
                "cell_type": "code",
                "execution_count": null,
                "metadata": {},
                "outputs": [],
                "source": [
                    "flights_depdel %>%\n",
                    " glimpse()\n"
                ]
                },
                {
                 "cell_type": "markdown",
                 "metadata": {},
                 "source": [
                     "From the first of few of few observations, it look like obsrtvations in `DepDel15` (binary indicator that departure was delayed by more than 15 minutes.) all have a corresponding delayed of 0 in `DepDelay` (the number of minutes departure was delayed). Let's check by looking at summary statistics for the `DepDelay` records:\n",
                     "\n"
                 ]
                },
                {
                 "cell_type": "code",
                 "executive_count": null,
                 "metadata": {},
                 "outputs": [],
                 "source": [
                     "Get summary statistics using summary function\n",
                     "df_flight %>%\n",
                     "filter(rowSums(is.na(.)) > 0) %>%\n",
                     "select(DepDelay)\n",
                     "summary()\n"
                 ]
                },
                 {
                  "cell_type": "markdown",
                  "metadata": {},
                  "source": [
                      "The min, max and mean are all 0\n",
                      "\n",
                      "**Question 2**\n",
                      "\n",
                      "Starting with `df_flights`, replace the missing value in the column **DepDel15** with `0`. Assign to a variable name `df_flights`\n."
                      "\n",
                      "Fill in placeholder `....` with the right code.\n",
                  ]
                 },
                 {
                  "cell_type": "code",
                  "execution_count": null,
                  "metadata": {},
                  "outputs": [],
                  "sources": [
                      "# Replace missing value in DepDel15 with 0\n",
                      "df_flights <- df_flights %>%\n",
                      "mutate(DepDel15 = ....)\n"
                  ]
                 },
                 {
                  "cell_type": "markdown",
                  "metadata": {},
                  "source": [
                      "Test your answer:\n",
                      "\n"
                  ]
                 },
                 {
                  "cell_type": "code",
                  "execution_count": null,
                  "metadata": {},
                  "outputs": [],
                  "source": [
                      ". <- ottr::chech(\"tests/Question 2.R\")\n"
                  ]
                 },
                 {
                  "cell_type": "markdown",
                  "metadata": {},
                  "source": [
                  "Good job! no missing values now. Let's take this a little further.\n",
                  "\n",
                  "## **clean outliers**\n",
                  "\n",
                  "An outlier is a data point that differs significantly from other observations. Let's create a function that shows the distribution and summary statistics for a given column.\n",
                  ]
                 },
                 {
                  "cell_type": "code",
                  "execution_count": null,
                  "metadata": {},
                  "outputs": [],
                  "source": [
                  "Function to show summary stats and distribution for a column\n",
                  "show_distribution <- function(var_data, binwidth) {\n",
                  "\n",
                  " # Get summary statistics by first extracting values from the column\n",
                  "min_val <- min(pull(var_data))\n",
                  "max_val <- max(pull(var_data))\n",
                  "mean_val <- mean(pull(var_data))\n",
                  "med_val <- median(pull(var_data))\n",
                  "mod_val <- statip::mfv(pull(var_data))\n",
                  "\n",
                  " # Print the stats\n",
                  " stat <- glue::(\n",
                  " \"Minimum: {format(round(min_val, 2), nsmall = 2)}\n",
                  " Mean: {format(round(mean_val, 2), nsmall = 2)}\n",
                  " Median: {format(round(median_val, 2), nsmall = 2)}\n",
                  " Mode: {format(round(mode_val, 2), nsmall = 2)}\n",
                  " Maximum: {format(round(max_val, 2), nsmall = 2)}\n",
                  ")\n",
                  "\n",
                  "  theme_set(theme_light())\n",
                  "  # Plot the histogram\n",
                  " hist_gram <- ggplot(var_data) +\n",
                  "geom_histogram(aes(x = pull(var_data)), binwidth = binwidth,\n",
                  "               fill = \"midnightblue\", alpha = 0.7, boundary = 0.4)+\n",
                  "\n",
                  " # Add lines for statistics\n",
                  "geom_vline(xintercept = min_val, color = \"gray33\",\n"
                  "linetype = \"dashed\", size = 1.3) +\n",
                  "geom_vline(xintercept = mean_val, color = \"cyan\", \n",
                  "linetype = \"dashed\", size = 1.3) +\n",
                  "geom_vline(xintercept = med_val, color = \"red\", \n",
                  "linetype = \"dashed\", size = 1.3) +\n",
                  "geom_vline(xintercept = mod_val, color = \"yellow\", \n",
                  "linetype = \"dashed\", size = 1.3) +\n",
                  "geom_vline(xintercept = max_val, color = \"gray33\", \n",
                  "linetype = \"dashed\", size = 1.3) +\n",
                  "\n",
                  " # Add titles and labels\n",
                  "ggtitle(\"Data Distribution\") +\n",
                  "xlab(\"\") +\n",
                  "ylab(\"Function\") +\n",
                  "theme(plot.title = element_text(hjust = 0.5))\n",
                  "\n",
                  " # Plot the boxplot\n",
                  "bx_plt <- ggplot(data = var_data) +\n",
                  "geom_boxplot(mapping = aes(x = pull(var_data), y = 1), \n",
                  "             fill = \"#E69F00\", color = \"gray23\", alpha = 0.7)+\n",
                  "\n",
                  "  # Add titles and labels\n",
                  "xlab(\"value\")\n",
                  "ylab(\"\")\n",
                  "theme(plot.title = element_text(hjust = 0.5))\n",
                  "\n",
                  " # To return multiple outputs, use a `list`\n",
                  "return(\n",
                  "\n"
                  "  list(stats,\n",
                          hist_gram / bx_plt)) # END of function output\n", 
                  "\n",
} #END of function
                  ]
                 },
       ]
}
